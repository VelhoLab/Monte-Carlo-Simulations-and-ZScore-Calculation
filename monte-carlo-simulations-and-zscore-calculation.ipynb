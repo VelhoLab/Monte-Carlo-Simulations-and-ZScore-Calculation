{
 "cells": [
  {
   "cell_type": "markdown",
   "id": "190d41ce",
   "metadata": {},
   "source": [
    "## Monte Carlo"
   ]
  },
  {
   "cell_type": "code",
   "execution_count": null,
   "id": "ced7c736",
   "metadata": {},
   "outputs": [],
   "source": [
    "a_file = open(r\"D:\\TCC\\PYTHON\\MELLO\\Dados\\resultados_samanthaTFs.pkl\", \"rb\")\n",
    "resultados_TFs = pickle.load(a_file)\n",
    "a_file.close()"
   ]
  },
  {
   "cell_type": "code",
   "execution_count": null,
   "id": "0bc05ec7",
   "metadata": {},
   "outputs": [],
   "source": [
    "def monte_carlo(df_fimo, df_exp, df_genoma, iteracoes):\n",
    "    df_fimo_np = np.array(df_genoma.query(\"gene_id == {}\".format(list(df_fimo[\"gene_id\"]))).index)\n",
    "    df_exp_np = np.array(df_genoma.query(\"gene_id == {}\".format(list(df_exp[\"gene_id\"]))).index)\n",
    "    df_genoma_np = np.array(df_genoma.index)\n",
    "    \n",
    "    df_inter = np.intersect1d(df_fimo_np, df_exp_np)\n",
    "    perc_ = df_inter.shape[0] / df_exp_np.shape[0]#(df1_data.shape[0] + df2_data.shape[0])\n",
    "\n",
    "    len_exp = len(df_exp_np)\n",
    "    perc_sample = []\n",
    "    for i in range(iteracoes):\n",
    "        sample = np.random.choice(df_genoma_np, len_exp, replace = False)\n",
    "        \n",
    "        df_new_inter = np.intersect1d(df_fimo_np, sample)\n",
    "        \n",
    "        perc_sample.append(df_new_inter.shape[0] / (sample.shape[0])) #(df1_new.shape[0] + df2_new.shape[0])) \n",
    "    \n",
    "    print(\"Done!\")\n",
    "        \n",
    "    return perc_, perc_sample"
   ]
  },
  {
   "cell_type": "code",
   "execution_count": null,
   "id": "129e7cc3",
   "metadata": {},
   "outputs": [],
   "source": [
    "n_boot = 20000\n",
    "mc_TFs = {}\n",
    "count = 0\n",
    "\n",
    "for TF in [\"list(resultados_TFs.keys())[:]\"]: # dict_analise_TF.keys():\n",
    "    a = time.time()\n",
    "    mc_exps = {}\n",
    "\n",
    "    try:\n",
    "        print(\"-------------------------------------\\n\",TF)\n",
    "        print(tfs_encontrados.query(\"ID == '{}'\".format(TF))[\"Name\"].values[0])\n",
    "        TF_filter = resultados_TFs[TF][\"filter\"]\n",
    "        print(len(TF_filter))\n",
    "        mc_exps[\"sig_M\"] = monte_carlo(TF_filter, sig_M_taegut1, TaeGut1, n_boot)\n",
    "        mc_exps [\"sig_F\"] = monte_carlo(TF_filter, sig_F_taegut1, TaeGut1, n_boot)\n",
    "        mc_exps[\"sig_20\"] = monte_carlo(TF_filter, sig_20_taegut1, TaeGut1, n_boot)\n",
    "        mc_exps[\"sig_50\"] = monte_carlo(TF_filter, sig_50_taegut1, TaeGut1, n_boot)\n",
    "        \n",
    "        mc_TFs[TF] = mc_exps\n",
    "    except:\n",
    "        print(\"-------------------------------------\\n\",TF)\n",
    "        print(tfs_encontrados.query(\"ID == '{}'\".format(TF))[\"Name\"].values[0])\n",
    "        print(\"Falha\")\n",
    "        \n",
    "    count += 1\n",
    "    print(round(count/len(resultados_TFs.keys())*100), \"%\", \"-\", time.time()-a)\n",
    "    "
   ]
  },
  {
   "cell_type": "code",
   "execution_count": null,
   "id": "85dbf229",
   "metadata": {},
   "outputs": [],
   "source": [
    "len(mc_TFs.keys())"
   ]
  },
  {
   "cell_type": "code",
   "execution_count": null,
   "id": "46fa50f4",
   "metadata": {},
   "outputs": [],
   "source": [
    "a_file = open(r\"D:\\TCC\\PYTHON\\MELLO\\Dados\\montecarlo_sample_samanthaTFs_3.pkl\", \"wb\")\n",
    "pickle.dump(mc_TFs, a_file)\n",
    "a_file.close()"
   ]
  },
  {
   "cell_type": "markdown",
   "id": "ce4eaf40",
   "metadata": {},
   "source": [
    "## ZScore"
   ]
  },
  {
   "cell_type": "code",
   "execution_count": null,
   "id": "ffdad28d",
   "metadata": {},
   "outputs": [],
   "source": [
    "a_file = open(r\"D:\\TCC\\PYTHON\\MELLO\\Dados\\montecarlo_sample_samanthaTFs_3.pkl\", \"rb\")\n",
    "mc_TFs = pickle.load(a_file)\n",
    "a_file.close()"
   ]
  },
  {
   "cell_type": "code",
   "execution_count": null,
   "id": "161d9726",
   "metadata": {},
   "outputs": [],
   "source": [
    "def zscore_mc(TF, sub_conj):\n",
    "    perc_TF, mc_TF = mc_TFs[TF][sub_conj]\n",
    "    \n",
    "    Z_mc_TF = stats.zscore(mc_TF)\n",
    "    Z_exp_TF = (perc_TF - np.mean(mc_TF)) / np.std(mc_TF)\n",
    "\n",
    "    return Z_mc_TF, Z_exp_TF\n",
    "\n",
    "zscore_mc_sigM_TFs, zscore_real_sigM_TFs = {}, {}\n",
    "zscore_mc_sigF_TFs, zscore_real_sigF_TFs = {}, {}\n",
    "zscore_mc_sig20_TFs, zscore_real_sig20_TFs = {}, {}\n",
    "zscore_mc_sig50_TFs, zscore_real_sig50_TFs = {}, {}\n",
    "\n",
    "for TF in mc_TFs.keys():\n",
    "    zscore_mc_sigM_TFs[TF], zscore_real_sigM_TFs[TF] = zscore_mc(TF, \"sig_M\")\n",
    "    zscore_mc_sigF_TFs[TF], zscore_real_sigF_TFs[TF] = zscore_mc(TF, \"sig_F\")\n",
    "    zscore_mc_sig20_TFs[TF], zscore_real_sig20_TFs[TF] = zscore_mc(TF, \"sig_20\")\n",
    "    zscore_mc_sig50_TFs[TF], zscore_real_sig50_TFs[TF] = zscore_mc(TF, \"sig_50\")"
   ]
  },
  {
   "cell_type": "code",
   "execution_count": null,
   "id": "0896b5a4",
   "metadata": {},
   "outputs": [],
   "source": [
    "def mk_montecarlo_df(zscore_mc_TFs, zscore_real_TFs, map_jasparID2geneName):\n",
    "    monte_carlo_df = pd.DataFrame([zscore_mc_TFs.keys(), zscore_mc_TFs.values()]).T\n",
    "    monte_carlo_df.columns = [\"TF_id\",\"zscore_mc\"]\n",
    "    monte_carlo_df[\"zscore_real\"] = monte_carlo_df[\"TF_id\"].map(zscore_real_TFs).astype(float)\n",
    "#     monte_carlo_df[\"zscore_real\"] = monte_carlo_df[\"zscore_real\"].astype(float)\n",
    "    monte_carlo_df[\"gene_name\"] = monte_carlo_df[\"TF_id\"].map(map_jasparID2geneName)\n",
    "    monte_carlo_df[\"gene_id\"] = monte_carlo_df[\"TF_id\"].map(map_jasparID2geneID)\n",
    "    \n",
    "    return monte_carlo_df\n",
    "\n",
    "Jaspar_PWMs = pd.read_csv(r\"D:\\TCC\\PYTHON\\MELLO\\analise todos tfs\\Dados\\all_vertebrata_tfs_jaspar.csv\")\n",
    "map_jasparID2geneName = dict(zip(Jaspar_PWMs[\"ID\"], Jaspar_PWMs[\"Name\"]))\n",
    "map_geneName2jasparID = dict(zip(Jaspar_PWMs[\"Name\"].str.upper(), Jaspar_PWMs[\"ID\"]))\n",
    "universe_lists_annotation[\"PWMid\"] = universe_lists_annotation[\"gene\"].str.upper().map(map_geneName2jasparID)\n",
    "map_jasparID2geneID = dict(zip(universe_lists_annotation[\"PWMid\"], universe_lists_annotation[\"GeneID\"]))\n",
    "\n",
    "\n",
    "faltante_jasparID2geneName = {\"MA1964.1\":\"SMAD2\", \"MA1965.1\":\"SP5\", \"MA1970.1\":\"TRPS1\", \"MA1992.1\":\"IKZF3\", \"MA1994.1\":\"NKX2-1\"}\n",
    "faltante_jasparID2geneID = {\"MA1964.1\":100225108, \"MA1965.1\":115495956, \"MA1970.1\":100226946, \"MA1992.1\":100217891, \"MA1994.1\":100227803}\n",
    "map_jasparID2geneName.update(faltante_jasparID2geneName)\n",
    "map_jasparID2geneID.update(faltante_jasparID2geneID)\n",
    "\n",
    "montecarlo_sigM = mk_montecarlo_df(zscore_mc_sigM_TFs, zscore_real_sigM_TFs, map_jasparID2geneName)\n",
    "montecarlo_sigF = mk_montecarlo_df(zscore_mc_sigF_TFs, zscore_real_sigF_TFs, map_jasparID2geneName)\n",
    "montecarlo_sig20 = mk_montecarlo_df(zscore_mc_sig20_TFs, zscore_real_sig20_TFs, map_jasparID2geneName)\n",
    "montecarlo_sig50 = mk_montecarlo_df(zscore_mc_sig50_TFs, zscore_real_sig50_TFs, map_jasparID2geneName)"
   ]
  },
  {
   "cell_type": "code",
   "execution_count": null,
   "id": "be1eb979",
   "metadata": {},
   "outputs": [],
   "source": []
  }
 ],
 "metadata": {
  "hide_input": false,
  "kernelspec": {
   "display_name": "Python 3 (ipykernel)",
   "language": "python",
   "name": "python3"
  },
  "language_info": {
   "codemirror_mode": {
    "name": "ipython",
    "version": 3
   },
   "file_extension": ".py",
   "mimetype": "text/x-python",
   "name": "python",
   "nbconvert_exporter": "python",
   "pygments_lexer": "ipython3",
   "version": "3.8.3"
  },
  "toc": {
   "base_numbering": 1,
   "nav_menu": {},
   "number_sections": true,
   "sideBar": true,
   "skip_h1_title": false,
   "title_cell": "Table of Contents",
   "title_sidebar": "Contents",
   "toc_cell": false,
   "toc_position": {},
   "toc_section_display": true,
   "toc_window_display": false
  },
  "varInspector": {
   "cols": {
    "lenName": 16,
    "lenType": 16,
    "lenVar": 40
   },
   "kernels_config": {
    "python": {
     "delete_cmd_postfix": "",
     "delete_cmd_prefix": "del ",
     "library": "var_list.py",
     "varRefreshCmd": "print(var_dic_list())"
    },
    "r": {
     "delete_cmd_postfix": ") ",
     "delete_cmd_prefix": "rm(",
     "library": "var_list.r",
     "varRefreshCmd": "cat(var_dic_list()) "
    }
   },
   "types_to_exclude": [
    "module",
    "function",
    "builtin_function_or_method",
    "instance",
    "_Feature"
   ],
   "window_display": false
  }
 },
 "nbformat": 4,
 "nbformat_minor": 5
}
